{
 "cells": [
  {
   "cell_type": "code",
   "execution_count": 1,
   "metadata": {},
   "outputs": [],
   "source": [
    "import os\n",
    "import matplotlib\n",
    "import numpy as np\n",
    "import matplotlib.pyplot as plt\n",
    "import seaborn as sns\n",
    "import pandas as pd\n",
    "%matplotlib inline \n",
    "\n",
    "import warnings\n",
    "warnings.filterwarnings('ignore')"
   ]
  },
  {
   "cell_type": "code",
   "execution_count": 2,
   "metadata": {},
   "outputs": [],
   "source": [
    "path=os.getcwd()\n",
    "costdata = \"Zip_Zhvi_2bedroom.csv\"          \n",
    "revenuedata =  \"listings.csv\"\n",
    "nbeds=2\n",
    "city = [\"New York\",\"NY\",\"NYC\",\"ny\"]"
   ]
  },
  {
   "cell_type": "code",
   "execution_count": 3,
   "metadata": {},
   "outputs": [
    {
     "data": {
      "text/plain": [
       "'C:\\\\Users\\\\Vishnu'"
      ]
     },
     "execution_count": 3,
     "metadata": {},
     "output_type": "execute_result"
    }
   ],
   "source": [
    "path"
   ]
  },
  {
   "cell_type": "code",
   "execution_count": 4,
   "metadata": {},
   "outputs": [],
   "source": [
    "def read_data(path,file):\n",
    "    full_path = os.path.join(path,file)\n",
    "    return pd.read_csv(full_path)\n"
   ]
  },
  {
   "cell_type": "code",
   "execution_count": 5,
   "metadata": {},
   "outputs": [],
   "source": [
    "revenue_data=read_data(path,revenuedata)\n",
    "cost_data=read_data(path,costdata)\n",
    "airbnb_data=revenue_data.copy()\n",
    "zillow_data=cost_data.copy()"
   ]
  },
  {
   "cell_type": "code",
   "execution_count": 6,
   "metadata": {},
   "outputs": [
    {
     "name": "stdout",
     "output_type": "stream",
     "text": [
      "Unique Zipcodes in Zillow dataset is 8946\n",
      "Unique Zipcodes in Airbnb dataset is 377\n"
     ]
    }
   ],
   "source": [
    "#airbnb_data.zipcode = airbnb_data.zipcode.astype(str)\n",
    "print(\"Unique Zipcodes in Zillow dataset is \"+ str(len(zillow_data['RegionName'].unique())))\n",
    "print(\"Unique Zipcodes in Airbnb dataset is \"+ str(len(airbnb_data['zipcode'].unique())))"
   ]
  },
  {
   "cell_type": "code",
   "execution_count": 7,
   "metadata": {},
   "outputs": [],
   "source": [
    "#dataTypeSeries = airbnb_data.dtypes['zipcode']\n",
    "#print(dataTypeSeries)"
   ]
  },
  {
   "cell_type": "code",
   "execution_count": 8,
   "metadata": {},
   "outputs": [
    {
     "data": {
      "text/plain": [
       "id                                                  0\n",
       "listing_url                                         0\n",
       "scrape_id                                           0\n",
       "last_scraped                                        0\n",
       "name                                               16\n",
       "                                                ...  \n",
       "calculated_host_listings_count                      0\n",
       "calculated_host_listings_count_entire_homes         0\n",
       "calculated_host_listings_count_private_rooms        0\n",
       "calculated_host_listings_count_shared_rooms         0\n",
       "reviews_per_month                               10052\n",
       "Length: 106, dtype: int64"
      ]
     },
     "execution_count": 8,
     "metadata": {},
     "output_type": "execute_result"
    }
   ],
   "source": [
    "airbnb_data.isnull().sum()"
   ]
  },
  {
   "cell_type": "code",
   "execution_count": 9,
   "metadata": {},
   "outputs": [
    {
     "data": {
      "text/plain": [
       "RegionID        0\n",
       "RegionName      0\n",
       "City            0\n",
       "State           0\n",
       "Metro         250\n",
       "             ... \n",
       "2017-02         0\n",
       "2017-03         0\n",
       "2017-04         0\n",
       "2017-05         0\n",
       "2017-06         0\n",
       "Length: 262, dtype: int64"
      ]
     },
     "execution_count": 9,
     "metadata": {},
     "output_type": "execute_result"
    }
   ],
   "source": [
    "zillow_data.isnull().sum()"
   ]
  },
  {
   "cell_type": "code",
   "execution_count": 10,
   "metadata": {},
   "outputs": [],
   "source": [
    "#dfinal = df1.merge(df2, how='inner', left_on='movie_title', right_on='movie_name')\n",
    "zillow_df=zillow_data.loc[zillow_data['City'].isin(city)]\n",
    "zillow_df=pd.concat([zillow_df[['RegionName','City', 'State', 'Metro', 'CountyName', 'SizeRank']],zillow_df.iloc[:,-12:]],axis = 1)\n",
    "airbnb_df=airbnb_data.loc[airbnb_data['bedrooms']==nbeds]"
   ]
  },
  {
   "cell_type": "code",
   "execution_count": 12,
   "metadata": {},
   "outputs": [
    {
     "data": {
      "text/html": [
       "<div>\n",
       "<style scoped>\n",
       "    .dataframe tbody tr th:only-of-type {\n",
       "        vertical-align: middle;\n",
       "    }\n",
       "\n",
       "    .dataframe tbody tr th {\n",
       "        vertical-align: top;\n",
       "    }\n",
       "\n",
       "    .dataframe thead th {\n",
       "        text-align: right;\n",
       "    }\n",
       "</style>\n",
       "<table border=\"1\" class=\"dataframe\">\n",
       "  <thead>\n",
       "    <tr style=\"text-align: right;\">\n",
       "      <th></th>\n",
       "      <th>id</th>\n",
       "      <th>listing_url</th>\n",
       "      <th>scrape_id</th>\n",
       "      <th>last_scraped</th>\n",
       "      <th>name</th>\n",
       "      <th>summary</th>\n",
       "      <th>space</th>\n",
       "      <th>description</th>\n",
       "      <th>experiences_offered</th>\n",
       "      <th>neighborhood_overview</th>\n",
       "      <th>...</th>\n",
       "      <th>instant_bookable</th>\n",
       "      <th>is_business_travel_ready</th>\n",
       "      <th>cancellation_policy</th>\n",
       "      <th>require_guest_profile_picture</th>\n",
       "      <th>require_guest_phone_verification</th>\n",
       "      <th>calculated_host_listings_count</th>\n",
       "      <th>calculated_host_listings_count_entire_homes</th>\n",
       "      <th>calculated_host_listings_count_private_rooms</th>\n",
       "      <th>calculated_host_listings_count_shared_rooms</th>\n",
       "      <th>reviews_per_month</th>\n",
       "    </tr>\n",
       "  </thead>\n",
       "  <tbody>\n",
       "    <tr>\n",
       "      <th>19</th>\n",
       "      <td>7750</td>\n",
       "      <td>https://www.airbnb.com/rooms/7750</td>\n",
       "      <td>20190708031610</td>\n",
       "      <td>2019-07-08</td>\n",
       "      <td>Huge 2 BR Upper East  Cental Park</td>\n",
       "      <td>NaN</td>\n",
       "      <td>Large Furnished 2BR one block  to Central Park...</td>\n",
       "      <td>Large Furnished 2BR one block  to Central Park...</td>\n",
       "      <td>none</td>\n",
       "      <td>NaN</td>\n",
       "      <td>...</td>\n",
       "      <td>f</td>\n",
       "      <td>f</td>\n",
       "      <td>flexible</td>\n",
       "      <td>f</td>\n",
       "      <td>f</td>\n",
       "      <td>2</td>\n",
       "      <td>1</td>\n",
       "      <td>1</td>\n",
       "      <td>0</td>\n",
       "      <td>NaN</td>\n",
       "    </tr>\n",
       "    <tr>\n",
       "      <th>48</th>\n",
       "      <td>13050</td>\n",
       "      <td>https://www.airbnb.com/rooms/13050</td>\n",
       "      <td>20190708031610</td>\n",
       "      <td>2019-07-09</td>\n",
       "      <td>bright and stylish duplex</td>\n",
       "      <td>Wonderfully bright, comfortable, and stylish, ...</td>\n",
       "      <td>Two large, bright bedrooms and a large bathroo...</td>\n",
       "      <td>Wonderfully bright, comfortable, and stylish, ...</td>\n",
       "      <td>none</td>\n",
       "      <td>The Putnam-Throop area of Bed-Stuy is a vibran...</td>\n",
       "      <td>...</td>\n",
       "      <td>f</td>\n",
       "      <td>f</td>\n",
       "      <td>strict_14_with_grace_period</td>\n",
       "      <td>f</td>\n",
       "      <td>f</td>\n",
       "      <td>1</td>\n",
       "      <td>1</td>\n",
       "      <td>0</td>\n",
       "      <td>0</td>\n",
       "      <td>0.10</td>\n",
       "    </tr>\n",
       "    <tr>\n",
       "      <th>52</th>\n",
       "      <td>14290</td>\n",
       "      <td>https://www.airbnb.com/rooms/14290</td>\n",
       "      <td>20190708031610</td>\n",
       "      <td>2019-07-08</td>\n",
       "      <td>* ORIGINAL BROOKLYN LOFT *</td>\n",
       "      <td>Original factory building loft,  lots of natur...</td>\n",
       "      <td>BROOKLYN FACTORY LOFT MORGAN AVE L train (5 mi...</td>\n",
       "      <td>Original factory building loft,  lots of natur...</td>\n",
       "      <td>none</td>\n",
       "      <td>Bushwick is a constantly changing area,  new o...</td>\n",
       "      <td>...</td>\n",
       "      <td>t</td>\n",
       "      <td>f</td>\n",
       "      <td>moderate</td>\n",
       "      <td>f</td>\n",
       "      <td>f</td>\n",
       "      <td>1</td>\n",
       "      <td>1</td>\n",
       "      <td>0</td>\n",
       "      <td>0</td>\n",
       "      <td>0.70</td>\n",
       "    </tr>\n",
       "    <tr>\n",
       "      <th>61</th>\n",
       "      <td>15396</td>\n",
       "      <td>https://www.airbnb.com/rooms/15396</td>\n",
       "      <td>20190708031610</td>\n",
       "      <td>2019-07-08</td>\n",
       "      <td>Sunny &amp; Spacious Chelsea Apartment</td>\n",
       "      <td>Modern, spacious, bright and well designed apa...</td>\n",
       "      <td>NaN</td>\n",
       "      <td>Modern, spacious, bright and well designed apa...</td>\n",
       "      <td>none</td>\n",
       "      <td>Explore Chelsea's thriving new gallery distric...</td>\n",
       "      <td>...</td>\n",
       "      <td>f</td>\n",
       "      <td>f</td>\n",
       "      <td>strict_14_with_grace_period</td>\n",
       "      <td>f</td>\n",
       "      <td>f</td>\n",
       "      <td>1</td>\n",
       "      <td>1</td>\n",
       "      <td>0</td>\n",
       "      <td>0</td>\n",
       "      <td>0.12</td>\n",
       "    </tr>\n",
       "    <tr>\n",
       "      <th>62</th>\n",
       "      <td>15711</td>\n",
       "      <td>https://www.airbnb.com/rooms/15711</td>\n",
       "      <td>20190708031610</td>\n",
       "      <td>2019-07-08</td>\n",
       "      <td>2 bedroom - Upper East Side-great for kids</td>\n",
       "      <td>This apartment is  perfect for families. A Que...</td>\n",
       "      <td>Enjoy an excellent and much more reasonably pr...</td>\n",
       "      <td>This apartment is  perfect for families. A Que...</td>\n",
       "      <td>none</td>\n",
       "      <td>Wonderful and safe upper east side. There is a...</td>\n",
       "      <td>...</td>\n",
       "      <td>t</td>\n",
       "      <td>f</td>\n",
       "      <td>strict_14_with_grace_period</td>\n",
       "      <td>f</td>\n",
       "      <td>f</td>\n",
       "      <td>2</td>\n",
       "      <td>2</td>\n",
       "      <td>0</td>\n",
       "      <td>0</td>\n",
       "      <td>0.57</td>\n",
       "    </tr>\n",
       "  </tbody>\n",
       "</table>\n",
       "<p>5 rows × 106 columns</p>\n",
       "</div>"
      ],
      "text/plain": [
       "       id                         listing_url       scrape_id last_scraped  \\\n",
       "19   7750   https://www.airbnb.com/rooms/7750  20190708031610   2019-07-08   \n",
       "48  13050  https://www.airbnb.com/rooms/13050  20190708031610   2019-07-09   \n",
       "52  14290  https://www.airbnb.com/rooms/14290  20190708031610   2019-07-08   \n",
       "61  15396  https://www.airbnb.com/rooms/15396  20190708031610   2019-07-08   \n",
       "62  15711  https://www.airbnb.com/rooms/15711  20190708031610   2019-07-08   \n",
       "\n",
       "                                          name  \\\n",
       "19           Huge 2 BR Upper East  Cental Park   \n",
       "48                   bright and stylish duplex   \n",
       "52                  * ORIGINAL BROOKLYN LOFT *   \n",
       "61          Sunny & Spacious Chelsea Apartment   \n",
       "62  2 bedroom - Upper East Side-great for kids   \n",
       "\n",
       "                                              summary  \\\n",
       "19                                                NaN   \n",
       "48  Wonderfully bright, comfortable, and stylish, ...   \n",
       "52  Original factory building loft,  lots of natur...   \n",
       "61  Modern, spacious, bright and well designed apa...   \n",
       "62  This apartment is  perfect for families. A Que...   \n",
       "\n",
       "                                                space  \\\n",
       "19  Large Furnished 2BR one block  to Central Park...   \n",
       "48  Two large, bright bedrooms and a large bathroo...   \n",
       "52  BROOKLYN FACTORY LOFT MORGAN AVE L train (5 mi...   \n",
       "61                                                NaN   \n",
       "62  Enjoy an excellent and much more reasonably pr...   \n",
       "\n",
       "                                          description experiences_offered  \\\n",
       "19  Large Furnished 2BR one block  to Central Park...                none   \n",
       "48  Wonderfully bright, comfortable, and stylish, ...                none   \n",
       "52  Original factory building loft,  lots of natur...                none   \n",
       "61  Modern, spacious, bright and well designed apa...                none   \n",
       "62  This apartment is  perfect for families. A Que...                none   \n",
       "\n",
       "                                neighborhood_overview  ... instant_bookable  \\\n",
       "19                                                NaN  ...                f   \n",
       "48  The Putnam-Throop area of Bed-Stuy is a vibran...  ...                f   \n",
       "52  Bushwick is a constantly changing area,  new o...  ...                t   \n",
       "61  Explore Chelsea's thriving new gallery distric...  ...                f   \n",
       "62  Wonderful and safe upper east side. There is a...  ...                t   \n",
       "\n",
       "   is_business_travel_ready          cancellation_policy  \\\n",
       "19                        f                     flexible   \n",
       "48                        f  strict_14_with_grace_period   \n",
       "52                        f                     moderate   \n",
       "61                        f  strict_14_with_grace_period   \n",
       "62                        f  strict_14_with_grace_period   \n",
       "\n",
       "   require_guest_profile_picture require_guest_phone_verification  \\\n",
       "19                             f                                f   \n",
       "48                             f                                f   \n",
       "52                             f                                f   \n",
       "61                             f                                f   \n",
       "62                             f                                f   \n",
       "\n",
       "    calculated_host_listings_count  \\\n",
       "19                               2   \n",
       "48                               1   \n",
       "52                               1   \n",
       "61                               1   \n",
       "62                               2   \n",
       "\n",
       "    calculated_host_listings_count_entire_homes  \\\n",
       "19                                            1   \n",
       "48                                            1   \n",
       "52                                            1   \n",
       "61                                            1   \n",
       "62                                            2   \n",
       "\n",
       "   calculated_host_listings_count_private_rooms  \\\n",
       "19                                            1   \n",
       "48                                            0   \n",
       "52                                            0   \n",
       "61                                            0   \n",
       "62                                            0   \n",
       "\n",
       "    calculated_host_listings_count_shared_rooms  reviews_per_month  \n",
       "19                                            0                NaN  \n",
       "48                                            0               0.10  \n",
       "52                                            0               0.70  \n",
       "61                                            0               0.12  \n",
       "62                                            0               0.57  \n",
       "\n",
       "[5 rows x 106 columns]"
      ]
     },
     "execution_count": 12,
     "metadata": {},
     "output_type": "execute_result"
    }
   ],
   "source": [
    "airbnb_df.head()"
   ]
  }
 ],
 "metadata": {
  "kernelspec": {
   "display_name": "Python 3",
   "language": "python",
   "name": "python3"
  },
  "language_info": {
   "codemirror_mode": {
    "name": "ipython",
    "version": 3
   },
   "file_extension": ".py",
   "mimetype": "text/x-python",
   "name": "python",
   "nbconvert_exporter": "python",
   "pygments_lexer": "ipython3",
   "version": "3.7.6"
  }
 },
 "nbformat": 4,
 "nbformat_minor": 2
}
